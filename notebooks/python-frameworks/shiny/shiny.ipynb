{
 "cells": [
  {
   "cell_type": "markdown",
   "metadata": {},
   "source": [
    "### **Ferramentas para desenvolvimento de dashboards com Python | Shiny**"
   ]
  },
  {
   "cell_type": "markdown",
   "metadata": {},
   "source": [
    "### **Introdução ao Shiny for Python:**\n",
    "O Shiny for Python é uma biblioteca de visualização de dados em Python inspirada no Shiny para R. Ele permite criar aplicativos web interativos e dashboards diretamente a partir do Python, proporcionando uma maneira fácil e rápida de explorar e comunicar dados.\n",
    "\n",
    "- **Documentação**: [Shiny for Python Documentation](https://shiny.posit.co/py/docs/overview.html)\n",
    "\n",
    "### **Funcionamento**:\n",
    "O Shiny for Python simplifica o processo de criação de aplicativos web interativos em Python, permitindo que os usuários criem widgets de interface do usuário para interagir com dados e visualizações. Ele fornece uma interface de alto nível para a criação de aplicativos web, o que facilita o desenvolvimento mesmo para aqueles que não têm experiência em desenvolvimento web.\n",
    "\n",
    "### **Principais Recursos**:\n",
    "- **Widgets Interativos**: Permite criar uma ampla variedade de widgets, como botões, barras de deslizamento, caixas de seleção e muito mais, para interagir com os dados.\n",
    "- **Dashboards Personalizáveis**: Facilita a criação de dashboards personalizados com múltiplas visualizações e widgets interativos.\n",
    "- **Integração com Plotly e Bokeh**: Oferece integração perfeita com bibliotecas populares de visualização de dados, como Plotly e Bokeh, para criar visualizações atraentes e interativas.\n",
    "\n",
    "### **Vantagens**:\n",
    "- **Facilidade de Uso**: O Shiny for Python simplifica o processo de criação de aplicativos web interativos em Python, proporcionando uma interface de alto nível e widgets intuitivos.\n",
    "- **Integração com Python**: Como é baseado em Python, o Shiny for Python se integra perfeitamente com o ecossistema Python, permitindo que os usuários aproveitem as bibliotecas e ferramentas existentes.\n",
    "- **Visualizações Interativas**: Permite criar visualizações de dados interativas e dinâmicas que podem ser exploradas e manipuladas pelos usuários.\n",
    "\n",
    "### **Desvantagens**:\n",
    "- **Limitações de Personalização**: Para projetos muito personalizados, o Shiny for Python pode oferecer menos flexibilidade do que outras opções mais avançadas de desenvolvimento web em Python.\n",
    "- **Relativamente nova**: Sua versão em Python foi lançada no início do ano, o que a torna bem recente, pouco consolidade e não tão famosa entre as comunidades.\n",
    "\n",
    "### **Conclusão**:\n",
    "O Shiny for Python é uma excelente escolha para criar aplicativos web interativos e dashboards em Python, especialmente para aqueles que já estão familiarizados com o ecossistema Python. Com sua abordagem simplificada e poderosa, o Shiny for Python oferece uma maneira eficiente e eficaz de explorar e comunicar dados de forma interativa.\n",
    "\n",
    "### **Exemplos de aplicações**:\n",
    "- Lista de aplicações desenvolvidas com Shiny: [Shiny for Python Gallery](https://shiny.posit.co/py/gallery/)\n",
    "    - **Model monitoring dashboard**: [Working app](https://gallery.shinyapps.io/model-score/) & [Github Repository](https://github.com/posit-dev/py-shiny/blob/915b4c885ba0e176e4d3db7ba6d1519a9d4bd0b6/examples/model-score/app.py)\n",
    "    - **Air pollution overview**: [Working app](https://gallery.shinyapps.io/respiratory_disease_pyshiny/) & [Github Repository](https://github.com/rstudio/shiny-gallery/tree/master/respiratory_disease_pyshiny)"
   ]
  }
 ],
 "metadata": {
  "language_info": {
   "name": "python"
  }
 },
 "nbformat": 4,
 "nbformat_minor": 2
}
