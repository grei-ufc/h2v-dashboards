{
 "cells": [
  {
   "cell_type": "markdown",
   "metadata": {},
   "source": [
    "### **Ferramentas para desenvolvimento de dashboards com Python | Flask**"
   ]
  },
  {
   "cell_type": "markdown",
   "metadata": {},
   "source": [
    "O Flask é um microframework de Python usado para desenvolver aplicativos web. Ele facilita a criação de aplicativos web simples e eficientes, fornecendo ferramentas e estrutura para lidar com rotas, solicitações HTTP, cookies, sessões e muito mais.\n",
    "\n",
    "No desenvolvimento de dashboards web, o Flask pode ser usado para criar o back-end do aplicativo, lidar com solicitações do cliente, acessar bancos de dados ou API's externas e fornecer dados dinâmicos para o front-end (que seria desenvolvido com HTML, CSS e Javascript e também, com o possível uso de bibliotecas e frameworks JS).\n",
    "\n",
    "- **Documentação do Flask**: [Documentação em PT-BR](https://flask-ptbr.readthedocs.io/en/latest/)\n",
    "\n",
    "### **Utilização**:\n",
    "O Flask segue o padrão de arquitetura MVC (Model-View-Controller)\n",
    "\n",
    "<img src=\"static/images/mvc-architecture.png\" alt=\"Representação da arquitetura MVC\" width=\"300\">\n",
    "\n",
    "E seu uso pode ser resumido nas seguintes etapas:\n",
    "\n",
    "1. **Definição de Rotas**: No Flask, as rotas são URLs que o aplicativo web pode manipular. As rotas são definidas usando decoradores Python, como @app.route('/'). Cada rota está associada a uma função que será executada quando a rota for acessada pelo navegador.\n",
    "2. **Recebimento de Requisições**: Quando um usuário acessa uma rota definida no aplicativo Flask (por exemplo, digitando a URL no navegador), o Flask recebe uma requisição HTTP correspondente àquela rota.\n",
    "3. **Execução da Função Associada**: Após receber a requisição, o Flask chama a função associada à rota correspondente. Esta função pode executar várias ações, como processar dados, interagir com um banco de dados ou renderizar templates HTML.\n",
    "4. **Retorno de Resposta**: A função associada à rota retorna uma resposta HTTP, que pode incluir HTML para ser exibido no navegador, dados JSON para serem processados por um aplicativo cliente ou qualquer outro tipo de conteúdo.\n",
    "5. **Renderização de Templates**: O Flask suporta a renderização de templates HTML. Isso permite criar páginas da web dinâmicas, onde o conteúdo pode ser gerado dinamicamente com base em dados do aplicativo.\n",
    "6. **Execução do Servidor Web**: Por fim, o Flask inicia um servidor web embutido, que fica ouvindo por requisições HTTP vindas do navegador. Isso permite que os usuários acessem o aplicativo Flask por meio de um navegador da web.\n",
    "\n",
    "### **Vantagens**:\n",
    "- **Simplicidade**: Fácil de aprender e usar, especialmente para projetos pequenos e médios.\n",
    "- **Flexibilidade**: Controle total sobre a estrutura e organização do seu aplicativo.\n",
    "- **Comunidade ativa**: Possui uma comunidade ativa de desenvolvedores e diversas extensões disponíveis.\n",
    "- **Integração com outros frameworks**: Pode ser facilmente integrado com outros frameworks e bibliotecas, permitindo uma maior personalização e funcionalidade.\n",
    "\n",
    "### **Desvantagens**:\n",
    "- **Limitado para aplicativos complexos**: Para aplicativos muito grandes e complexos, pode ser limitado em comparação com frameworks mais robustos.\n",
    "- **Menos recursos embutidos**: Possui menos recursos embutidos do que alguns outros frameworks, o que significa que pode ser necessário o uso de extensões ou escrever mais código personalizado para certas funcionalidades.\n",
    "\n",
    "### **Conclusão**:\n",
    "O Flask é uma ótima escolha para o desenvolvimento de dashboards web simples e eficientes, especialmente para projetos menores ou médios. Ele oferece simplicidade, flexibilidade e uma comunidade ativa de desenvolvedores. No entanto, para projetos muito grandes e complexos, pode ser necessário considerar frameworks mais robustos como o Django. O uso de HTML, CSS e JavaScript complementa o Flask, permitindo criar interfaces de usuário atraentes e interativas."
   ]
  }
 ],
 "metadata": {
  "kernelspec": {
   "display_name": "venv",
   "language": "python",
   "name": "python3"
  },
  "language_info": {
   "codemirror_mode": {
    "name": "ipython",
    "version": 3
   },
   "file_extension": ".py",
   "mimetype": "text/x-python",
   "name": "python",
   "nbconvert_exporter": "python",
   "pygments_lexer": "ipython3",
   "version": "3.12.1"
  }
 },
 "nbformat": 4,
 "nbformat_minor": 2
}
