{
 "cells": [
  {
   "cell_type": "markdown",
   "metadata": {},
   "source": [
    "### **Ferramentas para desenvolvimento de dashboards com Python | Dash**"
   ]
  },
  {
   "cell_type": "markdown",
   "metadata": {},
   "source": [
    "### **Fundamentos do framework:**\n",
    "O Dash é um framework de Python desenvolvido pela Plotly para a criação de dashboards web. Ele visa simplificar o desenvolvimento de aplicações interativas e analíticas, eliminando a necessidade de lidar diretamente com CSS, HTML e JavaScript.\n",
    "\n",
    "- **Documentação:** [Dash Documentation & User Guide](https://dash.plotly.com/)\n",
    "- **Para adição de CSS, HTML e Javascript personalizados:** [Using External Resources](https://dash.plotly.com/external-resources)\n",
    "\n",
    "### **Funcionamento do framework:**\n",
    "#### **Parte 1: Layout**\n",
    "Aplicativos Dash são compostos por duas partes principais. A primeira é o `layout` que descreve como o aplicativo se parece. É uma árvore hierárquica de componentes, com dois tipos de componentes que podem ser utilizados:\n",
    "- ***Elementos HTML***: Itens estáticos criados com HTML. [Lista de Componentes HTML](https://dash.plotly.com/dash-core-components);\n",
    "- ***Dash Core Components (DCC)***: Itens interativos (como gráficos e tabelas) gerados por meio da biblioteca React.js e Plotly.js (utilizando HTML, CSS ou JavaScript). São personalizáveis e existem diversos deles. [Lista de Dash Core Components disponíveis](https://dash.plotly.com/dash-core-components)\n",
    "- Além de suportar elementos HTML, o `layout` também suporta textos Markdown.\n",
    "\n",
    "#### **Parte 2: Callbacks**\n",
    "A segunda parte descreve a interatividade entre o aplicativo e o usuário, os chamados `callbacks`. Esses são basicamente funções que são automaticamente acionadas pelo Dash quando as entradas de um componente mudam, atualizando assim outros componentes (saída).\n",
    "\n",
    "### **Vantagens e desvantagens:**\n",
    "\n",
    "- **Vantagens:**\n",
    "1. **Facilidade na criação de aplicações responsivas e interativas**: Por meio do uso da biblioteca de componentes disponibilizados pelo Dash, é possível a criação rápida e facilitada de aplicativos de dashboard.\n",
    "2. **Ampla documentação e comunidade ativa**: A Plotly (empresa desenvolvedora) fornece uma documentação detalhada e clara para o uso do framework. Além disso, existe uma grande comunidade que utiliza a ferramenta, o que facilita o aprendizado e a resolução de problemas.\n",
    "3. **Variedade de componentes, flexibilidade e customização**: Grande biblioteca de componentes dos mais diversos tipos, que são altamente customizáveis e flexíveis, ajustando-se às necessidades do desenvolvedor.\n",
    "4. **Integração ao ecossistema Python**: Como é desenvolvido em Python, o Dash pode ser facilmente integrado a outras bibliotecas de ciências de dados e visualização, aproveitando todo o poder do ecossistema Python para análise de dados.\n",
    "\n",
    "- **Desvantagens:**\n",
    "1. **Existência de um plano pago da Dash (Dash Enterprise)**: O plano gratuito possui limitações relacionadas à escalabilidade do sistema, funcionalidades avançadas (como autenticação), suporte direto do desenvolvedor e implantação em larga escala.\n",
    "2. **Desempenho**: Para dashboards complexos ou com grande fluxo de dados, podem haver questões de desempenho do app.\n",
    "3. **Necessidade de recursos específicos**: Apesar de possuir diversas possibilidades de personalização, ainda sim pode não atender necessidades específicas do usuário.\n",
    "\n",
    "### **Conclusão:**\n",
    "O Dash é uma ótima ferramenta para desenvolvimento web em Python, proporcionando facilidade de uso e integração com o ecossistema Python, embora apresente desafios de performance e limitações. É uma ótima opção, apesar de que conhecimentos em ferramentas Front-End sejam necessários para um maior poder de personalização."
   ]
  },
  {
   "cell_type": "markdown",
   "metadata": {},
   "source": [
    "### **Possibilidade de integração com o MicroFrameworks**:\n",
    "Para solucionar a problemática de inflexibilidade ou não atendimento de necessidades específicas do Dash, é possível a criação de um aplicativo com microframeworks para desenvolvimento web com sistemas Dash embutidos. Aqui analisaremos a integração com o Flask, mas também é possível a integração com o Django. Seguem as vantagens dessa integração:\n",
    "\n",
    "- **Controle e Flexibilidade**: Ao integrar o Plotly Dash como um módulo dentro de um aplicativo Flask, os desenvolvedores têm mais controle sobre a estrutura e o funcionamento do aplicativo. Isso permite uma maior flexibilidade na criação de interfaces interativas e no gerenciamento de rotas e funcionalidades.\n",
    "- **Maior Escalabilidade**: Permite que os desenvolvedores construam aplicativos mais complexos e escaláveis, combinando as capacidades de visualização do Plotly Dash com a robustez e flexibilidade do Flask.\n",
    "- **Compatibilidade com Outras Funcionalidades do Flask**: Integrar o Plotly Dash como um módulo dentro de um aplicativo Flask permite que os desenvolvedores utilizem outras funcionalidades e extensões do Flask, como autenticação, manipulação de formulários e acesso a bancos de dados, de forma integrada e harmoniosa. O Dash foi desenvolvido com o Flask, portanto são compatíveis.\n",
    "- **Melhor Experiência do Usuário**: Ao combinar as capacidades de visualização do Plotly Dash com a estrutura de aplicativos web do Flask, os desenvolvedores podem criar interfaces mais ricas e interativas, proporcionando uma melhor experiência para os usuários finais.\n",
    "\n",
    "As informações foram retiradas da seguinte fonte: [Integrate Plotly Dash Into Your Flask App](https://hackersandslackers.com/plotly-dash-with-flask/)"
   ]
  },
  {
   "cell_type": "markdown",
   "metadata": {},
   "source": [
    "### **Biblioteca de aplicativos Dash exemplo**:\n",
    "- Repositório no Github que armazena diversos exemplos da aplicação das funcionalidades do Dash: [Github Dash Sample Apps](https://github.com/plotly/dash-sample-apps/tree/main)\n",
    "    - **Data Visualization and Dashboards** - Medical Provider Charges Dashboard: [Working Dashboard](https://dash.gallery/dash-medical-provider-charges/?_gl=1*1szwa9f*_ga*ODg5NjAxNzI4LjE3MTE0MTA3NTA.*_ga_6G7EE0JNSC*MTcxMjU0NDc4Ni4xMi4xLjE3MTI1NDU4OTUuNjAuMC4w) & [Github Repository](https://github.com/plotly/dash-sample-apps/tree/main/apps/dash-medical-provider-charges) \n",
    "    - **Flask-Dash Integration Example** - Atlas: [Working Dashboard](https://worldatlas.org/Absence-of-corruption-Index-(IDEA)/2018/bar) & [Github Repository](https://github.com/danny-baker/atlas)\n",
    "    - **Dashboard** - Manufacturing SPC Dashboard: [Working Dashboard](https://dash.gallery/dash-manufacture-spc-dashboard/?_gl=1*1mx5f4g*_ga*ODg5NjAxNzI4LjE3MTE0MTA3NTA.*_ga_6G7EE0JNSC*MTcxMjU0NDc4Ni4xMi4xLjE3MTI1NDYzMTkuMzUuMC4w) & [Github Repository](https://github.com/plotly/dash-sample-apps/tree/main/apps/dash-manufacture-spc-dashboard)\n",
    "    - **Using Geospatial Data** - Clima Tool: [Working Dashboard](https://clima.cbe.berkeley.edu/) & [Github Repository](https://github.com/CenterForTheBuiltEnvironment/clima)\n",
    "- Página da documentação que mostra os apps em funcionamento: [Plotly Examples](https://plotly.com/examples/)"
   ]
  }
 ],
 "metadata": {
  "kernelspec": {
   "display_name": "venv",
   "language": "python",
   "name": "python3"
  },
  "language_info": {
   "codemirror_mode": {
    "name": "ipython",
    "version": 3
   },
   "file_extension": ".py",
   "mimetype": "text/x-python",
   "name": "python",
   "nbconvert_exporter": "python",
   "pygments_lexer": "ipython3",
   "version": "3.12.1"
  }
 },
 "nbformat": 4,
 "nbformat_minor": 2
}
